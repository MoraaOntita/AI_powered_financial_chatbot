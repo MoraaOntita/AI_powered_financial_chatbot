{
 "cells": [
  {
   "cell_type": "code",
   "execution_count": 1,
   "metadata": {},
   "outputs": [],
   "source": [
    "import pandas as pd"
   ]
  },
  {
   "cell_type": "code",
   "execution_count": 2,
   "metadata": {},
   "outputs": [
    {
     "data": {
      "text/html": [
       "<div>\n",
       "<style scoped>\n",
       "    .dataframe tbody tr th:only-of-type {\n",
       "        vertical-align: middle;\n",
       "    }\n",
       "\n",
       "    .dataframe tbody tr th {\n",
       "        vertical-align: top;\n",
       "    }\n",
       "\n",
       "    .dataframe thead th {\n",
       "        text-align: right;\n",
       "    }\n",
       "</style>\n",
       "<table border=\"1\" class=\"dataframe\">\n",
       "  <thead>\n",
       "    <tr style=\"text-align: right;\">\n",
       "      <th></th>\n",
       "      <th>Company Name</th>\n",
       "      <th>Year</th>\n",
       "      <th>Total Revenue</th>\n",
       "      <th>Net Income</th>\n",
       "      <th>Total Assets</th>\n",
       "      <th>Total Liabilities</th>\n",
       "      <th>Cash Flow from Operating activities</th>\n",
       "    </tr>\n",
       "  </thead>\n",
       "  <tbody>\n",
       "    <tr>\n",
       "      <th>0</th>\n",
       "      <td>Microsoft</td>\n",
       "      <td>2023</td>\n",
       "      <td>211,915</td>\n",
       "      <td>72,361</td>\n",
       "      <td>411,976</td>\n",
       "      <td>205,753</td>\n",
       "      <td>34,704</td>\n",
       "    </tr>\n",
       "    <tr>\n",
       "      <th>1</th>\n",
       "      <td>Microsoft</td>\n",
       "      <td>2022</td>\n",
       "      <td>198,270</td>\n",
       "      <td>72,738</td>\n",
       "      <td>364,840</td>\n",
       "      <td>198,298</td>\n",
       "      <td>13,931</td>\n",
       "    </tr>\n",
       "    <tr>\n",
       "      <th>2</th>\n",
       "      <td>Microsoft</td>\n",
       "      <td>2021</td>\n",
       "      <td>168,088</td>\n",
       "      <td>61,271</td>\n",
       "      <td>333,779</td>\n",
       "      <td>191,791</td>\n",
       "      <td>14,224</td>\n",
       "    </tr>\n",
       "    <tr>\n",
       "      <th>3</th>\n",
       "      <td>Tesla</td>\n",
       "      <td>2023</td>\n",
       "      <td>96,773</td>\n",
       "      <td>14,974</td>\n",
       "      <td>106,618</td>\n",
       "      <td>43,009</td>\n",
       "      <td>8,891</td>\n",
       "    </tr>\n",
       "    <tr>\n",
       "      <th>4</th>\n",
       "      <td>Tesla</td>\n",
       "      <td>2022</td>\n",
       "      <td>81,462</td>\n",
       "      <td>12,587</td>\n",
       "      <td>82,338</td>\n",
       "      <td>36,440</td>\n",
       "      <td>13,656</td>\n",
       "    </tr>\n",
       "    <tr>\n",
       "      <th>5</th>\n",
       "      <td>Tesla</td>\n",
       "      <td>2021</td>\n",
       "      <td>53,823</td>\n",
       "      <td>5,644</td>\n",
       "      <td>62,131</td>\n",
       "      <td>30,548</td>\n",
       "      <td>6,523</td>\n",
       "    </tr>\n",
       "    <tr>\n",
       "      <th>6</th>\n",
       "      <td>Apple</td>\n",
       "      <td>2023</td>\n",
       "      <td>383,285</td>\n",
       "      <td>96995</td>\n",
       "      <td>352,583</td>\n",
       "      <td>290,437</td>\n",
       "      <td>110,543</td>\n",
       "    </tr>\n",
       "    <tr>\n",
       "      <th>7</th>\n",
       "      <td>Apple</td>\n",
       "      <td>2022</td>\n",
       "      <td>394,328</td>\n",
       "      <td>99803</td>\n",
       "      <td>352,755</td>\n",
       "      <td>302038</td>\n",
       "      <td>122,151</td>\n",
       "    </tr>\n",
       "    <tr>\n",
       "      <th>8</th>\n",
       "      <td>Apple</td>\n",
       "      <td>2021</td>\n",
       "      <td>365,817</td>\n",
       "      <td>94,680</td>\n",
       "      <td>351,002</td>\n",
       "      <td>287,912</td>\n",
       "      <td>104,038</td>\n",
       "    </tr>\n",
       "  </tbody>\n",
       "</table>\n",
       "</div>"
      ],
      "text/plain": [
       "  Company Name  Year Total Revenue Net Income Total Assets Total Liabilities  \\\n",
       "0    Microsoft  2023       211,915     72,361      411,976           205,753   \n",
       "1    Microsoft  2022       198,270     72,738      364,840           198,298   \n",
       "2    Microsoft  2021       168,088     61,271      333,779           191,791   \n",
       "3        Tesla  2023        96,773     14,974      106,618            43,009   \n",
       "4        Tesla  2022        81,462     12,587       82,338            36,440   \n",
       "5        Tesla  2021        53,823      5,644       62,131            30,548   \n",
       "6        Apple  2023       383,285      96995      352,583           290,437   \n",
       "7        Apple  2022       394,328      99803      352,755            302038   \n",
       "8        Apple  2021       365,817     94,680      351,002           287,912   \n",
       "\n",
       "  Cash Flow from Operating activities  \n",
       "0                              34,704  \n",
       "1                              13,931  \n",
       "2                              14,224  \n",
       "3                               8,891  \n",
       "4                              13,656  \n",
       "5                               6,523  \n",
       "6                             110,543  \n",
       "7                             122,151  \n",
       "8                             104,038  "
      ]
     },
     "execution_count": 2,
     "metadata": {},
     "output_type": "execute_result"
    }
   ],
   "source": [
    "df = pd.read_csv('/home/moraa/Documents/BCG/data/BCG-X - Sheet1.csv')\n",
    "df.head(10)"
   ]
  },
  {
   "cell_type": "code",
   "execution_count": 3,
   "metadata": {},
   "outputs": [
    {
     "name": "stdout",
     "output_type": "stream",
     "text": [
      "  Company_Name  Year Total_Revenue Net_Income Total_Assets Total_Liabilities  \\\n",
      "0    Microsoft  2023       211,915     72,361      411,976           205,753   \n",
      "1    Microsoft  2022       198,270     72,738      364,840           198,298   \n",
      "2    Microsoft  2021       168,088     61,271      333,779           191,791   \n",
      "3        Tesla  2023        96,773     14,974      106,618            43,009   \n",
      "4        Tesla  2022        81,462     12,587       82,338            36,440   \n",
      "5        Tesla  2021        53,823      5,644       62,131            30,548   \n",
      "6        Apple  2023       383,285      96995      352,583           290,437   \n",
      "7        Apple  2022       394,328      99803      352,755            302038   \n",
      "8        Apple  2021       365,817     94,680      351,002           287,912   \n",
      "\n",
      "  Cash_Flow_from_Operating_activities  \n",
      "0                              34,704  \n",
      "1                              13,931  \n",
      "2                              14,224  \n",
      "3                               8,891  \n",
      "4                              13,656  \n",
      "5                               6,523  \n",
      "6                             110,543  \n",
      "7                             122,151  \n",
      "8                             104,038  \n"
     ]
    }
   ],
   "source": [
    "# Replace spaces with underscores in column names\n",
    "df.columns = df.columns.str.replace(' ', '_')\n",
    "\n",
    "print(df)"
   ]
  },
  {
   "cell_type": "code",
   "execution_count": 4,
   "metadata": {},
   "outputs": [
    {
     "name": "stdout",
     "output_type": "stream",
     "text": [
      "<class 'pandas.core.frame.DataFrame'>\n",
      "RangeIndex: 9 entries, 0 to 8\n",
      "Data columns (total 7 columns):\n",
      " #   Column                               Non-Null Count  Dtype \n",
      "---  ------                               --------------  ----- \n",
      " 0   Company_Name                         9 non-null      object\n",
      " 1   Year                                 9 non-null      int64 \n",
      " 2   Total_Revenue                        9 non-null      object\n",
      " 3   Net_Income                           9 non-null      object\n",
      " 4   Total_Assets                         9 non-null      object\n",
      " 5   Total_Liabilities                    9 non-null      object\n",
      " 6   Cash_Flow_from_Operating_activities  9 non-null      object\n",
      "dtypes: int64(1), object(6)\n",
      "memory usage: 632.0+ bytes\n"
     ]
    }
   ],
   "source": [
    "df.info(10)"
   ]
  },
  {
   "cell_type": "code",
   "execution_count": 5,
   "metadata": {},
   "outputs": [
    {
     "name": "stdout",
     "output_type": "stream",
     "text": [
      "9\n"
     ]
    }
   ],
   "source": [
    "# Check for non-numeric values in the relevant columns\n",
    "print(df['Total_Revenue'].apply(pd.to_numeric, errors='coerce').isna().sum())"
   ]
  },
  {
   "cell_type": "code",
   "execution_count": 6,
   "metadata": {},
   "outputs": [
    {
     "name": "stdout",
     "output_type": "stream",
     "text": [
      "7\n"
     ]
    }
   ],
   "source": [
    "print(df['Net_Income'].apply(pd.to_numeric, errors='coerce').isna().sum())"
   ]
  },
  {
   "cell_type": "code",
   "execution_count": 7,
   "metadata": {},
   "outputs": [
    {
     "data": {
      "text/html": [
       "<div>\n",
       "<style scoped>\n",
       "    .dataframe tbody tr th:only-of-type {\n",
       "        vertical-align: middle;\n",
       "    }\n",
       "\n",
       "    .dataframe tbody tr th {\n",
       "        vertical-align: top;\n",
       "    }\n",
       "\n",
       "    .dataframe thead th {\n",
       "        text-align: right;\n",
       "    }\n",
       "</style>\n",
       "<table border=\"1\" class=\"dataframe\">\n",
       "  <thead>\n",
       "    <tr style=\"text-align: right;\">\n",
       "      <th></th>\n",
       "      <th>Company_Name</th>\n",
       "      <th>Year</th>\n",
       "      <th>Total_Revenue</th>\n",
       "      <th>Net_Income</th>\n",
       "      <th>Total_Assets</th>\n",
       "      <th>Total_Liabilities</th>\n",
       "      <th>Cash_Flow_from_Operating_activities</th>\n",
       "    </tr>\n",
       "  </thead>\n",
       "  <tbody>\n",
       "    <tr>\n",
       "      <th>0</th>\n",
       "      <td>Microsoft</td>\n",
       "      <td>2023</td>\n",
       "      <td>211,915</td>\n",
       "      <td>72,361</td>\n",
       "      <td>411,976</td>\n",
       "      <td>205,753</td>\n",
       "      <td>34,704</td>\n",
       "    </tr>\n",
       "    <tr>\n",
       "      <th>1</th>\n",
       "      <td>Microsoft</td>\n",
       "      <td>2022</td>\n",
       "      <td>198,270</td>\n",
       "      <td>72,738</td>\n",
       "      <td>364,840</td>\n",
       "      <td>198,298</td>\n",
       "      <td>13,931</td>\n",
       "    </tr>\n",
       "    <tr>\n",
       "      <th>2</th>\n",
       "      <td>Microsoft</td>\n",
       "      <td>2021</td>\n",
       "      <td>168,088</td>\n",
       "      <td>61,271</td>\n",
       "      <td>333,779</td>\n",
       "      <td>191,791</td>\n",
       "      <td>14,224</td>\n",
       "    </tr>\n",
       "    <tr>\n",
       "      <th>3</th>\n",
       "      <td>Tesla</td>\n",
       "      <td>2023</td>\n",
       "      <td>96,773</td>\n",
       "      <td>14,974</td>\n",
       "      <td>106,618</td>\n",
       "      <td>43,009</td>\n",
       "      <td>8,891</td>\n",
       "    </tr>\n",
       "    <tr>\n",
       "      <th>4</th>\n",
       "      <td>Tesla</td>\n",
       "      <td>2022</td>\n",
       "      <td>81,462</td>\n",
       "      <td>12,587</td>\n",
       "      <td>82,338</td>\n",
       "      <td>36,440</td>\n",
       "      <td>13,656</td>\n",
       "    </tr>\n",
       "    <tr>\n",
       "      <th>5</th>\n",
       "      <td>Tesla</td>\n",
       "      <td>2021</td>\n",
       "      <td>53,823</td>\n",
       "      <td>5,644</td>\n",
       "      <td>62,131</td>\n",
       "      <td>30,548</td>\n",
       "      <td>6,523</td>\n",
       "    </tr>\n",
       "    <tr>\n",
       "      <th>6</th>\n",
       "      <td>Apple</td>\n",
       "      <td>2023</td>\n",
       "      <td>383,285</td>\n",
       "      <td>96995</td>\n",
       "      <td>352,583</td>\n",
       "      <td>290,437</td>\n",
       "      <td>110,543</td>\n",
       "    </tr>\n",
       "    <tr>\n",
       "      <th>7</th>\n",
       "      <td>Apple</td>\n",
       "      <td>2022</td>\n",
       "      <td>394,328</td>\n",
       "      <td>99803</td>\n",
       "      <td>352,755</td>\n",
       "      <td>302038</td>\n",
       "      <td>122,151</td>\n",
       "    </tr>\n",
       "    <tr>\n",
       "      <th>8</th>\n",
       "      <td>Apple</td>\n",
       "      <td>2021</td>\n",
       "      <td>365,817</td>\n",
       "      <td>94,680</td>\n",
       "      <td>351,002</td>\n",
       "      <td>287,912</td>\n",
       "      <td>104,038</td>\n",
       "    </tr>\n",
       "  </tbody>\n",
       "</table>\n",
       "</div>"
      ],
      "text/plain": [
       "  Company_Name  Year Total_Revenue Net_Income Total_Assets Total_Liabilities  \\\n",
       "0    Microsoft  2023       211,915     72,361      411,976           205,753   \n",
       "1    Microsoft  2022       198,270     72,738      364,840           198,298   \n",
       "2    Microsoft  2021       168,088     61,271      333,779           191,791   \n",
       "3        Tesla  2023        96,773     14,974      106,618            43,009   \n",
       "4        Tesla  2022        81,462     12,587       82,338            36,440   \n",
       "5        Tesla  2021        53,823      5,644       62,131            30,548   \n",
       "6        Apple  2023       383,285      96995      352,583           290,437   \n",
       "7        Apple  2022       394,328      99803      352,755            302038   \n",
       "8        Apple  2021       365,817     94,680      351,002           287,912   \n",
       "\n",
       "  Cash_Flow_from_Operating_activities  \n",
       "0                              34,704  \n",
       "1                              13,931  \n",
       "2                              14,224  \n",
       "3                               8,891  \n",
       "4                              13,656  \n",
       "5                               6,523  \n",
       "6                             110,543  \n",
       "7                             122,151  \n",
       "8                             104,038  "
      ]
     },
     "execution_count": 7,
     "metadata": {},
     "output_type": "execute_result"
    }
   ],
   "source": [
    "df.head(10)"
   ]
  },
  {
   "cell_type": "markdown",
   "metadata": {},
   "source": [
    "## Analysis"
   ]
  },
  {
   "cell_type": "code",
   "execution_count": 8,
   "metadata": {},
   "outputs": [
    {
     "data": {
      "text/plain": [
       "Company_Name                           object\n",
       "Year                                    int64\n",
       "Total_Revenue                          object\n",
       "Net_Income                             object\n",
       "Total_Assets                           object\n",
       "Total_Liabilities                      object\n",
       "Cash_Flow_from_Operating_activities    object\n",
       "dtype: object"
      ]
     },
     "execution_count": 8,
     "metadata": {},
     "output_type": "execute_result"
    }
   ],
   "source": [
    "df.dtypes"
   ]
  },
  {
   "cell_type": "code",
   "execution_count": 9,
   "metadata": {},
   "outputs": [
    {
     "name": "stdout",
     "output_type": "stream",
     "text": [
      "Company_Name                           object\n",
      "Year                                    int64\n",
      "Total_Revenue                           int64\n",
      "Net_Income                              int64\n",
      "Total_Assets                            int64\n",
      "Total_Liabilities                       int64\n",
      "Cash_Flow_from_Operating_activities     int64\n",
      "dtype: object\n",
      "Company_Name                           0\n",
      "Year                                   0\n",
      "Total_Revenue                          0\n",
      "Net_Income                             0\n",
      "Total_Assets                           0\n",
      "Total_Liabilities                      0\n",
      "Cash_Flow_from_Operating_activities    0\n",
      "dtype: int64\n"
     ]
    },
    {
     "data": {
      "text/html": [
       "<div>\n",
       "<style scoped>\n",
       "    .dataframe tbody tr th:only-of-type {\n",
       "        vertical-align: middle;\n",
       "    }\n",
       "\n",
       "    .dataframe tbody tr th {\n",
       "        vertical-align: top;\n",
       "    }\n",
       "\n",
       "    .dataframe thead th {\n",
       "        text-align: right;\n",
       "    }\n",
       "</style>\n",
       "<table border=\"1\" class=\"dataframe\">\n",
       "  <thead>\n",
       "    <tr style=\"text-align: right;\">\n",
       "      <th></th>\n",
       "      <th>Company_Name</th>\n",
       "      <th>Year</th>\n",
       "      <th>Total_Revenue</th>\n",
       "      <th>Net_Income</th>\n",
       "      <th>Total_Assets</th>\n",
       "      <th>Total_Liabilities</th>\n",
       "      <th>Cash_Flow_from_Operating_activities</th>\n",
       "    </tr>\n",
       "  </thead>\n",
       "  <tbody>\n",
       "    <tr>\n",
       "      <th>0</th>\n",
       "      <td>Microsoft</td>\n",
       "      <td>2023</td>\n",
       "      <td>211915</td>\n",
       "      <td>72361</td>\n",
       "      <td>411976</td>\n",
       "      <td>205753</td>\n",
       "      <td>34704</td>\n",
       "    </tr>\n",
       "    <tr>\n",
       "      <th>1</th>\n",
       "      <td>Microsoft</td>\n",
       "      <td>2022</td>\n",
       "      <td>198270</td>\n",
       "      <td>72738</td>\n",
       "      <td>364840</td>\n",
       "      <td>198298</td>\n",
       "      <td>13931</td>\n",
       "    </tr>\n",
       "    <tr>\n",
       "      <th>2</th>\n",
       "      <td>Microsoft</td>\n",
       "      <td>2021</td>\n",
       "      <td>168088</td>\n",
       "      <td>61271</td>\n",
       "      <td>333779</td>\n",
       "      <td>191791</td>\n",
       "      <td>14224</td>\n",
       "    </tr>\n",
       "    <tr>\n",
       "      <th>3</th>\n",
       "      <td>Tesla</td>\n",
       "      <td>2023</td>\n",
       "      <td>96773</td>\n",
       "      <td>14974</td>\n",
       "      <td>106618</td>\n",
       "      <td>43009</td>\n",
       "      <td>8891</td>\n",
       "    </tr>\n",
       "    <tr>\n",
       "      <th>4</th>\n",
       "      <td>Tesla</td>\n",
       "      <td>2022</td>\n",
       "      <td>81462</td>\n",
       "      <td>12587</td>\n",
       "      <td>82338</td>\n",
       "      <td>36440</td>\n",
       "      <td>13656</td>\n",
       "    </tr>\n",
       "    <tr>\n",
       "      <th>5</th>\n",
       "      <td>Tesla</td>\n",
       "      <td>2021</td>\n",
       "      <td>53823</td>\n",
       "      <td>5644</td>\n",
       "      <td>62131</td>\n",
       "      <td>30548</td>\n",
       "      <td>6523</td>\n",
       "    </tr>\n",
       "    <tr>\n",
       "      <th>6</th>\n",
       "      <td>Apple</td>\n",
       "      <td>2023</td>\n",
       "      <td>383285</td>\n",
       "      <td>96995</td>\n",
       "      <td>352583</td>\n",
       "      <td>290437</td>\n",
       "      <td>110543</td>\n",
       "    </tr>\n",
       "    <tr>\n",
       "      <th>7</th>\n",
       "      <td>Apple</td>\n",
       "      <td>2022</td>\n",
       "      <td>394328</td>\n",
       "      <td>99803</td>\n",
       "      <td>352755</td>\n",
       "      <td>302038</td>\n",
       "      <td>122151</td>\n",
       "    </tr>\n",
       "    <tr>\n",
       "      <th>8</th>\n",
       "      <td>Apple</td>\n",
       "      <td>2021</td>\n",
       "      <td>365817</td>\n",
       "      <td>94680</td>\n",
       "      <td>351002</td>\n",
       "      <td>287912</td>\n",
       "      <td>104038</td>\n",
       "    </tr>\n",
       "  </tbody>\n",
       "</table>\n",
       "</div>"
      ],
      "text/plain": [
       "  Company_Name  Year  Total_Revenue  Net_Income  Total_Assets  \\\n",
       "0    Microsoft  2023         211915       72361        411976   \n",
       "1    Microsoft  2022         198270       72738        364840   \n",
       "2    Microsoft  2021         168088       61271        333779   \n",
       "3        Tesla  2023          96773       14974        106618   \n",
       "4        Tesla  2022          81462       12587         82338   \n",
       "5        Tesla  2021          53823        5644         62131   \n",
       "6        Apple  2023         383285       96995        352583   \n",
       "7        Apple  2022         394328       99803        352755   \n",
       "8        Apple  2021         365817       94680        351002   \n",
       "\n",
       "   Total_Liabilities  Cash_Flow_from_Operating_activities  \n",
       "0             205753                                34704  \n",
       "1             198298                                13931  \n",
       "2             191791                                14224  \n",
       "3              43009                                 8891  \n",
       "4              36440                                13656  \n",
       "5              30548                                 6523  \n",
       "6             290437                               110543  \n",
       "7             302038                               122151  \n",
       "8             287912                               104038  "
      ]
     },
     "execution_count": 9,
     "metadata": {},
     "output_type": "execute_result"
    }
   ],
   "source": [
    "import pandas as pd\n",
    "\n",
    "# Example data (assuming 'df' is your DataFrame)\n",
    "\n",
    "# Replace commas and convert to numeric\n",
    "df['Total_Revenue'] = pd.to_numeric(df['Total_Revenue'].str.replace(',', ''), errors='coerce')\n",
    "df['Net_Income'] = pd.to_numeric(df['Net_Income'].str.replace(',', ''), errors='coerce')\n",
    "df['Total_Assets'] = pd.to_numeric(df['Total_Assets'].str.replace(',', ''), errors='coerce')\n",
    "df['Total_Liabilities'] = pd.to_numeric(df['Total_Liabilities'].str.replace(',', ''), errors='coerce')\n",
    "df['Cash_Flow_from_Operating_activities'] = pd.to_numeric(df['Cash_Flow_from_Operating_activities'].str.replace(',', ''), errors='coerce')\n",
    "\n",
    "# Check data types\n",
    "print(df.dtypes)\n",
    "\n",
    "# Check for any remaining NaN values\n",
    "print(df.isna().sum())\n",
    "\n",
    "# Verify data\n",
    "df.head(10)\n"
   ]
  },
  {
   "cell_type": "code",
   "execution_count": 10,
   "metadata": {},
   "outputs": [
    {
     "data": {
      "text/html": [
       "<div>\n",
       "<style scoped>\n",
       "    .dataframe tbody tr th:only-of-type {\n",
       "        vertical-align: middle;\n",
       "    }\n",
       "\n",
       "    .dataframe tbody tr th {\n",
       "        vertical-align: top;\n",
       "    }\n",
       "\n",
       "    .dataframe thead th {\n",
       "        text-align: right;\n",
       "    }\n",
       "</style>\n",
       "<table border=\"1\" class=\"dataframe\">\n",
       "  <thead>\n",
       "    <tr style=\"text-align: right;\">\n",
       "      <th></th>\n",
       "      <th>Company_Name</th>\n",
       "      <th>Year</th>\n",
       "      <th>Total_Revenue</th>\n",
       "      <th>Net_Income</th>\n",
       "      <th>Total_Assets</th>\n",
       "      <th>Total_Liabilities</th>\n",
       "      <th>Cash_Flow_from_Operating_activities</th>\n",
       "    </tr>\n",
       "  </thead>\n",
       "  <tbody>\n",
       "    <tr>\n",
       "      <th>0</th>\n",
       "      <td>Microsoft</td>\n",
       "      <td>2023</td>\n",
       "      <td>211915</td>\n",
       "      <td>72361</td>\n",
       "      <td>411976</td>\n",
       "      <td>205753</td>\n",
       "      <td>34704</td>\n",
       "    </tr>\n",
       "    <tr>\n",
       "      <th>1</th>\n",
       "      <td>Microsoft</td>\n",
       "      <td>2022</td>\n",
       "      <td>198270</td>\n",
       "      <td>72738</td>\n",
       "      <td>364840</td>\n",
       "      <td>198298</td>\n",
       "      <td>13931</td>\n",
       "    </tr>\n",
       "    <tr>\n",
       "      <th>2</th>\n",
       "      <td>Microsoft</td>\n",
       "      <td>2021</td>\n",
       "      <td>168088</td>\n",
       "      <td>61271</td>\n",
       "      <td>333779</td>\n",
       "      <td>191791</td>\n",
       "      <td>14224</td>\n",
       "    </tr>\n",
       "    <tr>\n",
       "      <th>3</th>\n",
       "      <td>Tesla</td>\n",
       "      <td>2023</td>\n",
       "      <td>96773</td>\n",
       "      <td>14974</td>\n",
       "      <td>106618</td>\n",
       "      <td>43009</td>\n",
       "      <td>8891</td>\n",
       "    </tr>\n",
       "    <tr>\n",
       "      <th>4</th>\n",
       "      <td>Tesla</td>\n",
       "      <td>2022</td>\n",
       "      <td>81462</td>\n",
       "      <td>12587</td>\n",
       "      <td>82338</td>\n",
       "      <td>36440</td>\n",
       "      <td>13656</td>\n",
       "    </tr>\n",
       "    <tr>\n",
       "      <th>5</th>\n",
       "      <td>Tesla</td>\n",
       "      <td>2021</td>\n",
       "      <td>53823</td>\n",
       "      <td>5644</td>\n",
       "      <td>62131</td>\n",
       "      <td>30548</td>\n",
       "      <td>6523</td>\n",
       "    </tr>\n",
       "    <tr>\n",
       "      <th>6</th>\n",
       "      <td>Apple</td>\n",
       "      <td>2023</td>\n",
       "      <td>383285</td>\n",
       "      <td>96995</td>\n",
       "      <td>352583</td>\n",
       "      <td>290437</td>\n",
       "      <td>110543</td>\n",
       "    </tr>\n",
       "    <tr>\n",
       "      <th>7</th>\n",
       "      <td>Apple</td>\n",
       "      <td>2022</td>\n",
       "      <td>394328</td>\n",
       "      <td>99803</td>\n",
       "      <td>352755</td>\n",
       "      <td>302038</td>\n",
       "      <td>122151</td>\n",
       "    </tr>\n",
       "    <tr>\n",
       "      <th>8</th>\n",
       "      <td>Apple</td>\n",
       "      <td>2021</td>\n",
       "      <td>365817</td>\n",
       "      <td>94680</td>\n",
       "      <td>351002</td>\n",
       "      <td>287912</td>\n",
       "      <td>104038</td>\n",
       "    </tr>\n",
       "  </tbody>\n",
       "</table>\n",
       "</div>"
      ],
      "text/plain": [
       "  Company_Name  Year  Total_Revenue  Net_Income  Total_Assets  \\\n",
       "0    Microsoft  2023         211915       72361        411976   \n",
       "1    Microsoft  2022         198270       72738        364840   \n",
       "2    Microsoft  2021         168088       61271        333779   \n",
       "3        Tesla  2023          96773       14974        106618   \n",
       "4        Tesla  2022          81462       12587         82338   \n",
       "5        Tesla  2021          53823        5644         62131   \n",
       "6        Apple  2023         383285       96995        352583   \n",
       "7        Apple  2022         394328       99803        352755   \n",
       "8        Apple  2021         365817       94680        351002   \n",
       "\n",
       "   Total_Liabilities  Cash_Flow_from_Operating_activities  \n",
       "0             205753                                34704  \n",
       "1             198298                                13931  \n",
       "2             191791                                14224  \n",
       "3              43009                                 8891  \n",
       "4              36440                                13656  \n",
       "5              30548                                 6523  \n",
       "6             290437                               110543  \n",
       "7             302038                               122151  \n",
       "8             287912                               104038  "
      ]
     },
     "execution_count": 10,
     "metadata": {},
     "output_type": "execute_result"
    }
   ],
   "source": [
    "df.head(10)"
   ]
  },
  {
   "cell_type": "code",
   "execution_count": 11,
   "metadata": {},
   "outputs": [
    {
     "data": {
      "text/plain": [
       "Company_Name                           object\n",
       "Year                                    int64\n",
       "Total_Revenue                           int64\n",
       "Net_Income                              int64\n",
       "Total_Assets                            int64\n",
       "Total_Liabilities                       int64\n",
       "Cash_Flow_from_Operating_activities     int64\n",
       "dtype: object"
      ]
     },
     "execution_count": 11,
     "metadata": {},
     "output_type": "execute_result"
    }
   ],
   "source": [
    "df.dtypes"
   ]
  },
  {
   "cell_type": "markdown",
   "metadata": {},
   "source": [
    "#### Calculate Year-Over-Year Changes"
   ]
  },
  {
   "cell_type": "code",
   "execution_count": 12,
   "metadata": {},
   "outputs": [
    {
     "data": {
      "text/html": [
       "<div>\n",
       "<style scoped>\n",
       "    .dataframe tbody tr th:only-of-type {\n",
       "        vertical-align: middle;\n",
       "    }\n",
       "\n",
       "    .dataframe tbody tr th {\n",
       "        vertical-align: top;\n",
       "    }\n",
       "\n",
       "    .dataframe thead th {\n",
       "        text-align: right;\n",
       "    }\n",
       "</style>\n",
       "<table border=\"1\" class=\"dataframe\">\n",
       "  <thead>\n",
       "    <tr style=\"text-align: right;\">\n",
       "      <th></th>\n",
       "      <th>Company_Name</th>\n",
       "      <th>Year</th>\n",
       "      <th>Total_Revenue</th>\n",
       "      <th>Net_Income</th>\n",
       "      <th>Total_Assets</th>\n",
       "      <th>Total_Liabilities</th>\n",
       "      <th>Cash_Flow_from_Operating_activities</th>\n",
       "      <th>YoY_Total_Revenue</th>\n",
       "      <th>YoY_Net_Income</th>\n",
       "      <th>YoY_Total_Assets</th>\n",
       "      <th>YoY_Total_Liabilities</th>\n",
       "      <th>YoY_Cash_Flow_from_Operating_activities</th>\n",
       "    </tr>\n",
       "  </thead>\n",
       "  <tbody>\n",
       "    <tr>\n",
       "      <th>8</th>\n",
       "      <td>Apple</td>\n",
       "      <td>2021</td>\n",
       "      <td>365817</td>\n",
       "      <td>94680</td>\n",
       "      <td>351002</td>\n",
       "      <td>287912</td>\n",
       "      <td>104038</td>\n",
       "      <td>NaN</td>\n",
       "      <td>NaN</td>\n",
       "      <td>NaN</td>\n",
       "      <td>NaN</td>\n",
       "      <td>NaN</td>\n",
       "    </tr>\n",
       "    <tr>\n",
       "      <th>7</th>\n",
       "      <td>Apple</td>\n",
       "      <td>2022</td>\n",
       "      <td>394328</td>\n",
       "      <td>99803</td>\n",
       "      <td>352755</td>\n",
       "      <td>302038</td>\n",
       "      <td>122151</td>\n",
       "      <td>7.793788</td>\n",
       "      <td>5.410858</td>\n",
       "      <td>0.499427</td>\n",
       "      <td>4.906360</td>\n",
       "      <td>17.409985</td>\n",
       "    </tr>\n",
       "    <tr>\n",
       "      <th>6</th>\n",
       "      <td>Apple</td>\n",
       "      <td>2023</td>\n",
       "      <td>383285</td>\n",
       "      <td>96995</td>\n",
       "      <td>352583</td>\n",
       "      <td>290437</td>\n",
       "      <td>110543</td>\n",
       "      <td>-2.800461</td>\n",
       "      <td>-2.813543</td>\n",
       "      <td>-0.048759</td>\n",
       "      <td>-3.840907</td>\n",
       "      <td>-9.502992</td>\n",
       "    </tr>\n",
       "    <tr>\n",
       "      <th>2</th>\n",
       "      <td>Microsoft</td>\n",
       "      <td>2021</td>\n",
       "      <td>168088</td>\n",
       "      <td>61271</td>\n",
       "      <td>333779</td>\n",
       "      <td>191791</td>\n",
       "      <td>14224</td>\n",
       "      <td>NaN</td>\n",
       "      <td>NaN</td>\n",
       "      <td>NaN</td>\n",
       "      <td>NaN</td>\n",
       "      <td>NaN</td>\n",
       "    </tr>\n",
       "    <tr>\n",
       "      <th>1</th>\n",
       "      <td>Microsoft</td>\n",
       "      <td>2022</td>\n",
       "      <td>198270</td>\n",
       "      <td>72738</td>\n",
       "      <td>364840</td>\n",
       "      <td>198298</td>\n",
       "      <td>13931</td>\n",
       "      <td>17.956071</td>\n",
       "      <td>18.715216</td>\n",
       "      <td>9.305858</td>\n",
       "      <td>3.392756</td>\n",
       "      <td>-2.059899</td>\n",
       "    </tr>\n",
       "    <tr>\n",
       "      <th>0</th>\n",
       "      <td>Microsoft</td>\n",
       "      <td>2023</td>\n",
       "      <td>211915</td>\n",
       "      <td>72361</td>\n",
       "      <td>411976</td>\n",
       "      <td>205753</td>\n",
       "      <td>34704</td>\n",
       "      <td>6.882030</td>\n",
       "      <td>-0.518299</td>\n",
       "      <td>12.919636</td>\n",
       "      <td>3.759493</td>\n",
       "      <td>149.113488</td>\n",
       "    </tr>\n",
       "    <tr>\n",
       "      <th>5</th>\n",
       "      <td>Tesla</td>\n",
       "      <td>2021</td>\n",
       "      <td>53823</td>\n",
       "      <td>5644</td>\n",
       "      <td>62131</td>\n",
       "      <td>30548</td>\n",
       "      <td>6523</td>\n",
       "      <td>NaN</td>\n",
       "      <td>NaN</td>\n",
       "      <td>NaN</td>\n",
       "      <td>NaN</td>\n",
       "      <td>NaN</td>\n",
       "    </tr>\n",
       "    <tr>\n",
       "      <th>4</th>\n",
       "      <td>Tesla</td>\n",
       "      <td>2022</td>\n",
       "      <td>81462</td>\n",
       "      <td>12587</td>\n",
       "      <td>82338</td>\n",
       "      <td>36440</td>\n",
       "      <td>13656</td>\n",
       "      <td>51.351653</td>\n",
       "      <td>123.015592</td>\n",
       "      <td>32.523217</td>\n",
       "      <td>19.287678</td>\n",
       "      <td>109.351525</td>\n",
       "    </tr>\n",
       "    <tr>\n",
       "      <th>3</th>\n",
       "      <td>Tesla</td>\n",
       "      <td>2023</td>\n",
       "      <td>96773</td>\n",
       "      <td>14974</td>\n",
       "      <td>106618</td>\n",
       "      <td>43009</td>\n",
       "      <td>8891</td>\n",
       "      <td>18.795267</td>\n",
       "      <td>18.964010</td>\n",
       "      <td>29.488207</td>\n",
       "      <td>18.026894</td>\n",
       "      <td>-34.893087</td>\n",
       "    </tr>\n",
       "  </tbody>\n",
       "</table>\n",
       "</div>"
      ],
      "text/plain": [
       "  Company_Name  Year  Total_Revenue  Net_Income  Total_Assets  \\\n",
       "8        Apple  2021         365817       94680        351002   \n",
       "7        Apple  2022         394328       99803        352755   \n",
       "6        Apple  2023         383285       96995        352583   \n",
       "2    Microsoft  2021         168088       61271        333779   \n",
       "1    Microsoft  2022         198270       72738        364840   \n",
       "0    Microsoft  2023         211915       72361        411976   \n",
       "5        Tesla  2021          53823        5644         62131   \n",
       "4        Tesla  2022          81462       12587         82338   \n",
       "3        Tesla  2023          96773       14974        106618   \n",
       "\n",
       "   Total_Liabilities  Cash_Flow_from_Operating_activities  YoY_Total_Revenue  \\\n",
       "8             287912                               104038                NaN   \n",
       "7             302038                               122151           7.793788   \n",
       "6             290437                               110543          -2.800461   \n",
       "2             191791                                14224                NaN   \n",
       "1             198298                                13931          17.956071   \n",
       "0             205753                                34704           6.882030   \n",
       "5              30548                                 6523                NaN   \n",
       "4              36440                                13656          51.351653   \n",
       "3              43009                                 8891          18.795267   \n",
       "\n",
       "   YoY_Net_Income  YoY_Total_Assets  YoY_Total_Liabilities  \\\n",
       "8             NaN               NaN                    NaN   \n",
       "7        5.410858          0.499427               4.906360   \n",
       "6       -2.813543         -0.048759              -3.840907   \n",
       "2             NaN               NaN                    NaN   \n",
       "1       18.715216          9.305858               3.392756   \n",
       "0       -0.518299         12.919636               3.759493   \n",
       "5             NaN               NaN                    NaN   \n",
       "4      123.015592         32.523217              19.287678   \n",
       "3       18.964010         29.488207              18.026894   \n",
       "\n",
       "   YoY_Cash_Flow_from_Operating_activities  \n",
       "8                                      NaN  \n",
       "7                                17.409985  \n",
       "6                                -9.502992  \n",
       "2                                      NaN  \n",
       "1                                -2.059899  \n",
       "0                               149.113488  \n",
       "5                                      NaN  \n",
       "4                               109.351525  \n",
       "3                               -34.893087  "
      ]
     },
     "execution_count": 12,
     "metadata": {},
     "output_type": "execute_result"
    }
   ],
   "source": [
    "# Sorting the DataFrame by Company_Name and Year\n",
    "df = df.sort_values(by=['Company_Name', 'Year'])\n",
    "\n",
    "#Calculating YoY Change for each metric\n",
    "df['YoY_Total_Revenue'] = df.groupby('Company_Name')['Total_Revenue'].pct_change() * 100\n",
    "df['YoY_Net_Income'] = df.groupby('Company_Name')['Net_Income'].pct_change() * 100\n",
    "df['YoY_Total_Assets'] = df.groupby('Company_Name')['Total_Assets'].pct_change() * 100\n",
    "df['YoY_Total_Liabilities'] = df.groupby('Company_Name')['Total_Liabilities'].pct_change() * 100\n",
    "df['YoY_Cash_Flow_from_Operating_activities'] = df.groupby('Company_Name')['Cash_Flow_from_Operating_activities'].pct_change() * 100\n",
    "\n",
    "# Display the updated DataFrame\n",
    "df.head(10)"
   ]
  },
  {
   "cell_type": "markdown",
   "metadata": {},
   "source": [
    "Compound Annual Growth Rate (CAGR)"
   ]
  },
  {
   "cell_type": "code",
   "execution_count": 13,
   "metadata": {},
   "outputs": [
    {
     "name": "stdout",
     "output_type": "stream",
     "text": [
      "CAGR for Total Revenue: 2.36%\n"
     ]
    }
   ],
   "source": [
    "def calculate_cagr(start_value, end_value, periods):\n",
    "    return (end_value / start_value) ** (1 / periods) - 1\n",
    "\n",
    "# Example: CAGR for Total Revenue\n",
    "start_year = df['Year'].min()\n",
    "end_year = df['Year'].max()\n",
    "periods = end_year - start_year\n",
    "\n",
    "cagr_revenue = calculate_cagr(df[df['Year'] == start_year]['Total_Revenue'].values[0], \n",
    "                              df[df['Year'] == end_year]['Total_Revenue'].values[0], \n",
    "                              periods)\n",
    "print(f\"CAGR for Total Revenue: {cagr_revenue:.2%}\")\n"
   ]
  },
  {
   "cell_type": "markdown",
   "metadata": {},
   "source": [
    "Profit Margin"
   ]
  },
  {
   "cell_type": "code",
   "execution_count": 14,
   "metadata": {},
   "outputs": [
    {
     "name": "stdout",
     "output_type": "stream",
     "text": [
      "   Year Company_Name  Profit_Margin\n",
      "8  2021        Apple       0.258818\n",
      "7  2022        Apple       0.253096\n",
      "6  2023        Apple       0.253062\n",
      "2  2021    Microsoft       0.364517\n",
      "1  2022    Microsoft       0.366863\n",
      "0  2023    Microsoft       0.341462\n",
      "5  2021        Tesla       0.104862\n",
      "4  2022        Tesla       0.154514\n",
      "3  2023        Tesla       0.154733\n"
     ]
    }
   ],
   "source": [
    "df['Profit_Margin'] = df['Net_Income'] / df['Total_Revenue']\n",
    "print(df[['Year', 'Company_Name', 'Profit_Margin']])\n"
   ]
  },
  {
   "cell_type": "markdown",
   "metadata": {},
   "source": [
    "Return on Assets"
   ]
  },
  {
   "cell_type": "code",
   "execution_count": 15,
   "metadata": {},
   "outputs": [
    {
     "name": "stdout",
     "output_type": "stream",
     "text": [
      "   Year Company_Name       ROA\n",
      "8  2021        Apple  0.269742\n",
      "7  2022        Apple  0.282924\n",
      "6  2023        Apple  0.275098\n",
      "2  2021    Microsoft  0.183568\n",
      "1  2022    Microsoft  0.199370\n",
      "0  2023    Microsoft  0.175644\n",
      "5  2021        Tesla  0.090840\n",
      "4  2022        Tesla  0.152870\n",
      "3  2023        Tesla  0.140445\n"
     ]
    }
   ],
   "source": [
    "df['ROA'] = df['Net_Income'] / df['Total_Assets']\n",
    "print(df[['Year', 'Company_Name', 'ROA']])\n"
   ]
  },
  {
   "cell_type": "markdown",
   "metadata": {},
   "source": [
    "Return on Equity"
   ]
  },
  {
   "cell_type": "code",
   "execution_count": 16,
   "metadata": {},
   "outputs": [
    {
     "name": "stdout",
     "output_type": "stream",
     "text": [
      "   Year Company_Name       ROE\n",
      "8  2021        Apple  1.500713\n",
      "7  2022        Apple  1.967841\n",
      "6  2023        Apple  1.560760\n",
      "2  2021    Microsoft  0.431522\n",
      "1  2022    Microsoft  0.436755\n",
      "0  2023    Microsoft  0.350887\n",
      "5  2021        Tesla  0.178704\n",
      "4  2022        Tesla  0.274239\n",
      "3  2023        Tesla  0.235407\n"
     ]
    }
   ],
   "source": [
    "df['Equity'] = df['Total_Assets'] - df['Total_Liabilities']\n",
    "df['ROE'] = df['Net_Income'] / df['Equity']\n",
    "print(df[['Year', 'Company_Name', 'ROE']])\n"
   ]
  },
  {
   "cell_type": "markdown",
   "metadata": {},
   "source": [
    "Current Ratio"
   ]
  },
  {
   "cell_type": "code",
   "execution_count": 17,
   "metadata": {},
   "outputs": [
    {
     "name": "stdout",
     "output_type": "stream",
     "text": [
      "   Year Company_Name  Current_Ratio\n",
      "8  2021        Apple       1.219129\n",
      "7  2022        Apple       1.167916\n",
      "6  2023        Apple       1.213974\n",
      "2  2021    Microsoft       1.740327\n",
      "1  2022    Microsoft       1.839857\n",
      "0  2023    Microsoft       2.002284\n",
      "5  2021        Tesla       2.033881\n",
      "4  2022        Tesla       2.259550\n",
      "3  2023        Tesla       2.478970\n"
     ]
    }
   ],
   "source": [
    "df['Current_Ratio'] = df['Total_Assets'] / df['Total_Liabilities']\n",
    "print(df[['Year', 'Company_Name', 'Current_Ratio']])\n"
   ]
  },
  {
   "cell_type": "markdown",
   "metadata": {},
   "source": [
    "Assets Turnover Ratio"
   ]
  },
  {
   "cell_type": "code",
   "execution_count": 18,
   "metadata": {},
   "outputs": [
    {
     "name": "stdout",
     "output_type": "stream",
     "text": [
      "   Year Company_Name  Asset_Turnover\n",
      "8  2021        Apple        1.042208\n",
      "7  2022        Apple        1.117852\n",
      "6  2023        Apple        1.087077\n",
      "2  2021    Microsoft        0.503591\n",
      "1  2022    Microsoft        0.543444\n",
      "0  2023    Microsoft        0.514387\n",
      "5  2021        Tesla        0.866283\n",
      "4  2022        Tesla        0.989361\n",
      "3  2023        Tesla        0.907661\n"
     ]
    }
   ],
   "source": [
    "df['Asset_Turnover'] = df['Total_Revenue'] / df['Total_Assets']\n",
    "print(df[['Year', 'Company_Name', 'Asset_Turnover']])\n"
   ]
  },
  {
   "cell_type": "markdown",
   "metadata": {},
   "source": [
    "Operating Cash Flow Trend"
   ]
  },
  {
   "cell_type": "code",
   "execution_count": 19,
   "metadata": {},
   "outputs": [
    {
     "name": "stdout",
     "output_type": "stream",
     "text": [
      "   Year Company_Name  Operating_Cash_Flow_Trend\n",
      "8  2021        Apple                        NaN\n",
      "7  2022        Apple                   0.174100\n",
      "6  2023        Apple                  -0.095030\n",
      "2  2021    Microsoft                        NaN\n",
      "1  2022    Microsoft                  -0.020599\n",
      "0  2023    Microsoft                   1.491135\n",
      "5  2021        Tesla                        NaN\n",
      "4  2022        Tesla                   1.093515\n",
      "3  2023        Tesla                  -0.348931\n"
     ]
    }
   ],
   "source": [
    "df['Operating_Cash_Flow_Trend'] = df.groupby('Company_Name')['Cash_Flow_from_Operating_activities'].pct_change()\n",
    "print(df[['Year', 'Company_Name', 'Operating_Cash_Flow_Trend']])\n"
   ]
  },
  {
   "cell_type": "markdown",
   "metadata": {},
   "source": [
    "Correlation Analysis"
   ]
  },
  {
   "cell_type": "code",
   "execution_count": 20,
   "metadata": {},
   "outputs": [
    {
     "name": "stdout",
     "output_type": "stream",
     "text": [
      "                   Total_Revenue  Net_Income  Total_Assets  Total_Liabilities\n",
      "Total_Revenue           1.000000    0.945292      0.754824           0.955953\n",
      "Net_Income              0.945292    1.000000      0.923014           0.996314\n",
      "Total_Assets            0.754824    0.923014      1.000000           0.902363\n",
      "Total_Liabilities       0.955953    0.996314      0.902363           1.000000\n"
     ]
    }
   ],
   "source": [
    "correlation_matrix = df[['Total_Revenue', 'Net_Income', 'Total_Assets', 'Total_Liabilities']].corr()\n",
    "print(correlation_matrix)\n"
   ]
  },
  {
   "cell_type": "markdown",
   "metadata": {},
   "source": [
    "Volatility in Financial Metrics"
   ]
  },
  {
   "cell_type": "code",
   "execution_count": 21,
   "metadata": {},
   "outputs": [
    {
     "name": "stdout",
     "output_type": "stream",
     "text": [
      "              Total_Revenue   Net_Income\n",
      "Company_Name                            \n",
      "Apple          14375.650675  2565.450513\n",
      "Microsoft      22427.457420  6514.372802\n",
      "Tesla          21767.879785  4846.853240\n"
     ]
    }
   ],
   "source": [
    "volatility = df.groupby('Company_Name')[['Total_Revenue', 'Net_Income']].std()\n",
    "print(volatility)\n"
   ]
  },
  {
   "cell_type": "markdown",
   "metadata": {},
   "source": [
    "Seasonality Analysis"
   ]
  },
  {
   "cell_type": "code",
   "execution_count": 22,
   "metadata": {},
   "outputs": [
    {
     "name": "stdout",
     "output_type": "stream",
     "text": [
      "Company_Name  Quarter\n",
      "Apple         1          381143.333333\n",
      "Microsoft     1          192757.666667\n",
      "Tesla         1           77352.666667\n",
      "Name: Total_Revenue, dtype: float64\n"
     ]
    }
   ],
   "source": [
    "df['Quarter'] = pd.to_datetime(df['Year'], format='%Y').dt.quarter\n",
    "seasonality_analysis = df.groupby(['Company_Name', 'Quarter'])['Total_Revenue'].mean()\n",
    "print(seasonality_analysis)\n"
   ]
  },
  {
   "cell_type": "markdown",
   "metadata": {},
   "source": [
    "Total Aggregation per year"
   ]
  },
  {
   "cell_type": "code",
   "execution_count": 23,
   "metadata": {},
   "outputs": [
    {
     "name": "stdout",
     "output_type": "stream",
     "text": [
      "   Year  Total_Revenue  Net_Income  Total_Assets  Total_Liabilities  \\\n",
      "0  2021         587728      161595        746912             510251   \n",
      "1  2022         674060      185128        799933             536776   \n",
      "2  2023         691973      184330        871177             539199   \n",
      "\n",
      "   Cash_Flow_from_Operating_activities  \n",
      "0                               124785  \n",
      "1                               149738  \n",
      "2                               154138  \n"
     ]
    }
   ],
   "source": [
    "annual_totals = df.groupby('Year').agg({\n",
    "    'Total_Revenue': 'sum',\n",
    "    'Net_Income': 'sum',\n",
    "    'Total_Assets': 'sum',\n",
    "    'Total_Liabilities': 'sum',\n",
    "    'Cash_Flow_from_Operating_activities': 'sum'\n",
    "}).reset_index()\n",
    "\n",
    "print(annual_totals)\n"
   ]
  },
  {
   "cell_type": "markdown",
   "metadata": {},
   "source": [
    "Average Metrics by Company"
   ]
  },
  {
   "cell_type": "code",
   "execution_count": 24,
   "metadata": {},
   "outputs": [
    {
     "name": "stdout",
     "output_type": "stream",
     "text": [
      "  Company_Name  Total_Revenue    Net_Income   Total_Assets  Total_Liabilities  \\\n",
      "0        Apple  381143.333333  97159.333333  352113.333333      293462.333333   \n",
      "1    Microsoft  192757.666667  68790.000000  370198.333333      198614.000000   \n",
      "2        Tesla   77352.666667  11068.333333   83695.666667       36665.666667   \n",
      "\n",
      "   Cash_Flow_from_Operating_activities  \n",
      "0                             112244.0  \n",
      "1                              20953.0  \n",
      "2                               9690.0  \n"
     ]
    }
   ],
   "source": [
    "average_by_company = df.groupby('Company_Name').agg({\n",
    "    'Total_Revenue': 'mean',\n",
    "    'Net_Income': 'mean',\n",
    "    'Total_Assets': 'mean',\n",
    "    'Total_Liabilities': 'mean',\n",
    "    'Cash_Flow_from_Operating_activities': 'mean'\n",
    "}).reset_index()\n",
    "\n",
    "print(average_by_company)\n"
   ]
  },
  {
   "cell_type": "markdown",
   "metadata": {},
   "source": [
    "Minimum and Maximum Metrics by Company"
   ]
  },
  {
   "cell_type": "code",
   "execution_count": 25,
   "metadata": {},
   "outputs": [
    {
     "name": "stdout",
     "output_type": "stream",
     "text": [
      "  Company_Name Total_Revenue         Net_Income        Total_Assets          \\\n",
      "                         max     min        max    min          max     min   \n",
      "0        Apple        394328  365817      99803  94680       352755  351002   \n",
      "1    Microsoft        211915  168088      72738  61271       411976  333779   \n",
      "2        Tesla         96773   53823      14974   5644       106618   62131   \n",
      "\n",
      "  Total_Liabilities         Cash_Flow_from_Operating_activities          \n",
      "                max     min                                 max     min  \n",
      "0            302038  287912                              122151  104038  \n",
      "1            205753  191791                               34704   13931  \n",
      "2             43009   30548                               13656    6523  \n"
     ]
    }
   ],
   "source": [
    "max_min_by_company = df.groupby('Company_Name').agg({\n",
    "    'Total_Revenue': ['max', 'min'],\n",
    "    'Net_Income': ['max', 'min'],\n",
    "    'Total_Assets': ['max', 'min'],\n",
    "    'Total_Liabilities': ['max', 'min'],\n",
    "    'Cash_Flow_from_Operating_activities': ['max', 'min']\n",
    "}).reset_index()\n",
    "\n",
    "print(max_min_by_company)\n"
   ]
  },
  {
   "cell_type": "markdown",
   "metadata": {},
   "source": [
    "Yearly Growth for Each Company"
   ]
  },
  {
   "cell_type": "code",
   "execution_count": 26,
   "metadata": {},
   "outputs": [
    {
     "name": "stdout",
     "output_type": "stream",
     "text": [
      "  Company_Name  Year  Total_Revenue  Net_Income  Total_Assets  \\\n",
      "0        Apple  2021            NaN         NaN           NaN   \n",
      "1        Apple  2022       0.077938    0.054109      0.004994   \n",
      "2        Apple  2023      -0.028005   -0.028135     -0.000488   \n",
      "3    Microsoft  2021            NaN         NaN           NaN   \n",
      "4    Microsoft  2022       0.179561    0.187152      0.093059   \n",
      "5    Microsoft  2023       0.068820   -0.005183      0.129196   \n",
      "6        Tesla  2021            NaN         NaN           NaN   \n",
      "7        Tesla  2022       0.513517    1.230156      0.325232   \n",
      "8        Tesla  2023       0.187953    0.189640      0.294882   \n",
      "\n",
      "   Total_Liabilities  Cash_Flow_from_Operating_activities  \n",
      "0                NaN                                  NaN  \n",
      "1           0.049064                             0.174100  \n",
      "2          -0.038409                            -0.095030  \n",
      "3                NaN                                  NaN  \n",
      "4           0.033928                            -0.020599  \n",
      "5           0.037595                             1.491135  \n",
      "6                NaN                                  NaN  \n",
      "7           0.192877                             1.093515  \n",
      "8           0.180269                            -0.348931  \n"
     ]
    }
   ],
   "source": [
    "yearly_growth = df.groupby(['Company_Name', 'Year']).agg({\n",
    "    'Total_Revenue': 'sum',\n",
    "    'Net_Income': 'sum',\n",
    "    'Total_Assets': 'sum',\n",
    "    'Total_Liabilities': 'sum',\n",
    "    'Cash_Flow_from_Operating_activities': 'sum'\n",
    "}).groupby('Company_Name').pct_change().reset_index()\n",
    "\n",
    "print(yearly_growth)\n"
   ]
  },
  {
   "cell_type": "markdown",
   "metadata": {},
   "source": [
    "Correlation Matrix"
   ]
  },
  {
   "cell_type": "code",
   "execution_count": 27,
   "metadata": {},
   "outputs": [
    {
     "name": "stdout",
     "output_type": "stream",
     "text": [
      "                                     Total_Revenue  Net_Income  Total_Assets  \\\n",
      "Total_Revenue                             1.000000    0.945292      0.754824   \n",
      "Net_Income                                0.945292    1.000000      0.923014   \n",
      "Total_Assets                              0.754824    0.923014      1.000000   \n",
      "Total_Liabilities                         0.955953    0.996314      0.902363   \n",
      "Cash_Flow_from_Operating_activities       0.953410    0.809349      0.540484   \n",
      "\n",
      "                                     Total_Liabilities  \\\n",
      "Total_Revenue                                 0.955953   \n",
      "Net_Income                                    0.996314   \n",
      "Total_Assets                                  0.902363   \n",
      "Total_Liabilities                             1.000000   \n",
      "Cash_Flow_from_Operating_activities           0.835332   \n",
      "\n",
      "                                     Cash_Flow_from_Operating_activities  \n",
      "Total_Revenue                                                   0.953410  \n",
      "Net_Income                                                      0.809349  \n",
      "Total_Assets                                                    0.540484  \n",
      "Total_Liabilities                                               0.835332  \n",
      "Cash_Flow_from_Operating_activities                             1.000000  \n"
     ]
    }
   ],
   "source": [
    "correlation_matrix = df[['Total_Revenue', 'Net_Income', 'Total_Assets', 'Total_Liabilities', 'Cash_Flow_from_Operating_activities']].corr()\n",
    "print(correlation_matrix)\n"
   ]
  },
  {
   "cell_type": "markdown",
   "metadata": {},
   "source": [
    "Comparing Total Revenue Across Companies"
   ]
  },
  {
   "cell_type": "code",
   "execution_count": 28,
   "metadata": {},
   "outputs": [
    {
     "name": "stdout",
     "output_type": "stream",
     "text": [
      "Company_Name  Year   Apple  Microsoft  Tesla\n",
      "0             2021  365817     168088  53823\n",
      "1             2022  394328     198270  81462\n",
      "2             2023  383285     211915  96773\n"
     ]
    }
   ],
   "source": [
    "revenue_comparison = df.pivot_table(values='Total_Revenue', index='Year', columns='Company_Name', aggfunc='sum').reset_index()\n",
    "\n",
    "print(revenue_comparison)\n"
   ]
  },
  {
   "cell_type": "markdown",
   "metadata": {},
   "source": [
    "Visualization"
   ]
  },
  {
   "cell_type": "code",
   "execution_count": 30,
   "metadata": {},
   "outputs": [
    {
     "name": "stderr",
     "output_type": "stream",
     "text": [
      "Matplotlib is building the font cache; this may take a moment.\n"
     ]
    },
    {
     "data": {
      "image/png": "[encoded data removed]",
      "text/plain": [
       "<Figure size 1000x600 with 1 Axes>"
      ]
     },
     "metadata": {},
     "output_type": "display_data"
    }
   ],
   "source": [
    "import matplotlib.pyplot as plt\n",
    "import seaborn as sns\n",
    "\n",
    "# Plotting Total Revenue over Years for each Company\n",
    "plt.figure(figsize=(10, 6))\n",
    "sns.lineplot(data=df, x='Year', y='Total_Revenue', hue='Company_Name', marker='o')\n",
    "plt.title('Total Revenue Over Years by Company')\n",
    "plt.xlabel('Year')\n",
    "plt.ylabel('Total Revenue')\n",
    "plt.legend(title='Company')\n",
    "plt.show()\n"
   ]
  },
  {
   "cell_type": "code",
   "execution_count": 31,
   "metadata": {},
   "outputs": [
    {
     "data": {
      "text/html": [
       "<div>\n",
       "<style scoped>\n",
       "    .dataframe tbody tr th:only-of-type {\n",
       "        vertical-align: middle;\n",
       "    }\n",
       "\n",
       "    .dataframe tbody tr th {\n",
       "        vertical-align: top;\n",
       "    }\n",
       "\n",
       "    .dataframe thead th {\n",
       "        text-align: right;\n",
       "    }\n",
       "</style>\n",
       "<table border=\"1\" class=\"dataframe\">\n",
       "  <thead>\n",
       "    <tr style=\"text-align: right;\">\n",
       "      <th></th>\n",
       "      <th>Company_Name</th>\n",
       "      <th>Year</th>\n",
       "      <th>Total_Revenue</th>\n",
       "      <th>Net_Income</th>\n",
       "      <th>Total_Assets</th>\n",
       "      <th>Total_Liabilities</th>\n",
       "      <th>Cash_Flow_from_Operating_activities</th>\n",
       "      <th>YoY_Total_Revenue</th>\n",
       "      <th>YoY_Net_Income</th>\n",
       "      <th>YoY_Total_Assets</th>\n",
       "      <th>YoY_Total_Liabilities</th>\n",
       "      <th>YoY_Cash_Flow_from_Operating_activities</th>\n",
       "      <th>Profit_Margin</th>\n",
       "      <th>ROA</th>\n",
       "      <th>Equity</th>\n",
       "      <th>ROE</th>\n",
       "      <th>Current_Ratio</th>\n",
       "      <th>Asset_Turnover</th>\n",
       "      <th>Operating_Cash_Flow_Trend</th>\n",
       "      <th>Quarter</th>\n",
       "    </tr>\n",
       "  </thead>\n",
       "  <tbody>\n",
       "    <tr>\n",
       "      <th>8</th>\n",
       "      <td>Apple</td>\n",
       "      <td>2021</td>\n",
       "      <td>365817</td>\n",
       "      <td>94680</td>\n",
       "      <td>351002</td>\n",
       "      <td>287912</td>\n",
       "      <td>104038</td>\n",
       "      <td>NaN</td>\n",
       "      <td>NaN</td>\n",
       "      <td>NaN</td>\n",
       "      <td>NaN</td>\n",
       "      <td>NaN</td>\n",
       "      <td>0.258818</td>\n",
       "      <td>0.269742</td>\n",
       "      <td>63090</td>\n",
       "      <td>1.500713</td>\n",
       "      <td>1.219129</td>\n",
       "      <td>1.042208</td>\n",
       "      <td>NaN</td>\n",
       "      <td>1</td>\n",
       "    </tr>\n",
       "    <tr>\n",
       "      <th>7</th>\n",
       "      <td>Apple</td>\n",
       "      <td>2022</td>\n",
       "      <td>394328</td>\n",
       "      <td>99803</td>\n",
       "      <td>352755</td>\n",
       "      <td>302038</td>\n",
       "      <td>122151</td>\n",
       "      <td>7.793788</td>\n",
       "      <td>5.410858</td>\n",
       "      <td>0.499427</td>\n",
       "      <td>4.906360</td>\n",
       "      <td>17.409985</td>\n",
       "      <td>0.253096</td>\n",
       "      <td>0.282924</td>\n",
       "      <td>50717</td>\n",
       "      <td>1.967841</td>\n",
       "      <td>1.167916</td>\n",
       "      <td>1.117852</td>\n",
       "      <td>0.174100</td>\n",
       "      <td>1</td>\n",
       "    </tr>\n",
       "    <tr>\n",
       "      <th>6</th>\n",
       "      <td>Apple</td>\n",
       "      <td>2023</td>\n",
       "      <td>383285</td>\n",
       "      <td>96995</td>\n",
       "      <td>352583</td>\n",
       "      <td>290437</td>\n",
       "      <td>110543</td>\n",
       "      <td>-2.800461</td>\n",
       "      <td>-2.813543</td>\n",
       "      <td>-0.048759</td>\n",
       "      <td>-3.840907</td>\n",
       "      <td>-9.502992</td>\n",
       "      <td>0.253062</td>\n",
       "      <td>0.275098</td>\n",
       "      <td>62146</td>\n",
       "      <td>1.560760</td>\n",
       "      <td>1.213974</td>\n",
       "      <td>1.087077</td>\n",
       "      <td>-0.095030</td>\n",
       "      <td>1</td>\n",
       "    </tr>\n",
       "    <tr>\n",
       "      <th>2</th>\n",
       "      <td>Microsoft</td>\n",
       "      <td>2021</td>\n",
       "      <td>168088</td>\n",
       "      <td>61271</td>\n",
       "      <td>333779</td>\n",
       "      <td>191791</td>\n",
       "      <td>14224</td>\n",
       "      <td>NaN</td>\n",
       "      <td>NaN</td>\n",
       "      <td>NaN</td>\n",
       "      <td>NaN</td>\n",
       "      <td>NaN</td>\n",
       "      <td>0.364517</td>\n",
       "      <td>0.183568</td>\n",
       "      <td>141988</td>\n",
       "      <td>0.431522</td>\n",
       "      <td>1.740327</td>\n",
       "      <td>0.503591</td>\n",
       "      <td>NaN</td>\n",
       "      <td>1</td>\n",
       "    </tr>\n",
       "    <tr>\n",
       "      <th>1</th>\n",
       "      <td>Microsoft</td>\n",
       "      <td>2022</td>\n",
       "      <td>198270</td>\n",
       "      <td>72738</td>\n",
       "      <td>364840</td>\n",
       "      <td>198298</td>\n",
       "      <td>13931</td>\n",
       "      <td>17.956071</td>\n",
       "      <td>18.715216</td>\n",
       "      <td>9.305858</td>\n",
       "      <td>3.392756</td>\n",
       "      <td>-2.059899</td>\n",
       "      <td>0.366863</td>\n",
       "      <td>0.199370</td>\n",
       "      <td>166542</td>\n",
       "      <td>0.436755</td>\n",
       "      <td>1.839857</td>\n",
       "      <td>0.543444</td>\n",
       "      <td>-0.020599</td>\n",
       "      <td>1</td>\n",
       "    </tr>\n",
       "  </tbody>\n",
       "</table>\n",
       "</div>"
      ],
      "text/plain": [
       "  Company_Name  Year  Total_Revenue  Net_Income  Total_Assets  \\\n",
       "8        Apple  2021         365817       94680        351002   \n",
       "7        Apple  2022         394328       99803        352755   \n",
       "6        Apple  2023         383285       96995        352583   \n",
       "2    Microsoft  2021         168088       61271        333779   \n",
       "1    Microsoft  2022         198270       72738        364840   \n",
       "\n",
       "   Total_Liabilities  Cash_Flow_from_Operating_activities  YoY_Total_Revenue  \\\n",
       "8             287912                               104038                NaN   \n",
       "7             302038                               122151           7.793788   \n",
       "6             290437                               110543          -2.800461   \n",
       "2             191791                                14224                NaN   \n",
       "1             198298                                13931          17.956071   \n",
       "\n",
       "   YoY_Net_Income  YoY_Total_Assets  YoY_Total_Liabilities  \\\n",
       "8             NaN               NaN                    NaN   \n",
       "7        5.410858          0.499427               4.906360   \n",
       "6       -2.813543         -0.048759              -3.840907   \n",
       "2             NaN               NaN                    NaN   \n",
       "1       18.715216          9.305858               3.392756   \n",
       "\n",
       "   YoY_Cash_Flow_from_Operating_activities  Profit_Margin       ROA  Equity  \\\n",
       "8                                      NaN       0.258818  0.269742   63090   \n",
       "7                                17.409985       0.253096  0.282924   50717   \n",
       "6                                -9.502992       0.253062  0.275098   62146   \n",
       "2                                      NaN       0.364517  0.183568  141988   \n",
       "1                                -2.059899       0.366863  0.199370  166542   \n",
       "\n",
       "        ROE  Current_Ratio  Asset_Turnover  Operating_Cash_Flow_Trend  Quarter  \n",
       "8  1.500713       1.219129        1.042208                        NaN        1  \n",
       "7  1.967841       1.167916        1.117852                   0.174100        1  \n",
       "6  1.560760       1.213974        1.087077                  -0.095030        1  \n",
       "2  0.431522       1.740327        0.503591                        NaN        1  \n",
       "1  0.436755       1.839857        0.543444                  -0.020599        1  "
      ]
     },
     "execution_count": 31,
     "metadata": {},
     "output_type": "execute_result"
    }
   ],
   "source": [
    "df.head()"
   ]
  },
  {
   "cell_type": "markdown",
   "metadata": {},
   "source": [
    "# Financial Metrics Analysis\n",
    "\n",
    "## Introduction\n",
    "\n",
    "This analysis explores various financial metrics for three companies—Apple, Microsoft, and Tesla—over the years 2021 to 2023. The objective is to examine trends, calculate growth rates, and analyze key financial ratios to understand the financial health and performance of these companies.\n",
    "\n",
    "## Methodology\n",
    "\n",
    "1. **Data Preparation**: The dataset includes financial metrics such as Total Revenue, Net Income, Total Assets, Total Liabilities, and Cash Flow from Operating Activities.\n",
    "2. **Calculations and Metrics**:\n",
    "   - **Compound Annual Growth Rate (CAGR)**: Calculated for Total Revenue to understand the annual growth rate over the period.\n",
    "   - **Profit Margin**: Net Income divided by Total Revenue to assess profitability.\n",
    "   - **Return on Assets (ROA)**: Net Income divided by Total Assets to evaluate asset efficiency.\n",
    "   - **Return on Equity (ROE)**: Net Income divided by Equity (Total Assets - Total Liabilities) to measure profitability relative to shareholders' equity.\n",
    "   - **Current Ratio**: Total Assets divided by Total Liabilities to gauge liquidity.\n",
    "   - **Asset Turnover**: Total Revenue divided by Total Assets to assess how efficiently assets are used to generate revenue.\n",
    "   - **Operating Cash Flow Trend**: Percentage change in cash flow from operating activities year-over-year to observe cash flow performance.\n",
    "   - **Volatility**: Standard deviation of financial metrics to understand variability.\n",
    "   - **Seasonality Analysis**: Average Total Revenue per quarter to identify seasonal trends.\n",
    "   - **Annual Totals**: Sum of financial metrics by year to observe overall growth.\n",
    "   - **Average by Company**: Mean values of financial metrics by company to compare performance.\n",
    "   - **Maximum and Minimum**: Identify extreme values for financial metrics.\n",
    "   - **Yearly Growth**: Percentage change in financial metrics year-over-year to measure growth trends.\n",
    "   - **Correlation Matrix**: Correlation between financial metrics to identify relationships.\n",
    "   - **Revenue Comparison**: Pivot table to compare Total Revenue by year for each company.\n",
    "\n",
    "## Observations\n",
    "\n",
    "### Compound Annual Growth Rate (CAGR)\n",
    "\n",
    "- **Total Revenue CAGR**:\n",
    "  - **Apple**: 2.36%, indicating moderate growth.\n",
    "  - **Microsoft**: Higher growth rate, reflecting significant revenue increase.\n",
    "  - **Tesla**: Highest growth rate, showing rapid revenue expansion.\n",
    "\n",
    "### Profit Margin\n",
    "\n",
    "- **Profit Margin Trends**:\n",
    "  - **Apple**: Relatively stable with slight decreases over the years.\n",
    "  - **Microsoft**: Higher profit margins compared to Apple and Tesla, with a slight decrease in recent years.\n",
    "  - **Tesla**: Lowest profit margins but improvement noted in the most recent year.\n",
    "\n",
    "### Return on Assets (ROA)\n",
    "\n",
    "- **ROA Trends**:\n",
    "  - **Apple**: Consistently high, indicating efficient asset utilization.\n",
    "  - **Microsoft**: Improved ROA, reflecting better asset efficiency.\n",
    "  - **Tesla**: Lower ROA with some improvement over the years.\n",
    "\n",
    "### Return on Equity (ROE)\n",
    "\n",
    "- **ROE Trends**:\n",
    "  - **Apple**: Significantly high, suggesting strong profitability relative to equity.\n",
    "  - **Microsoft**: Lower ROE but stable, indicating moderate profitability.\n",
    "  - **Tesla**: Lower ROE with positive growth, indicating improved profitability.\n",
    "\n",
    "### Current Ratio\n",
    "\n",
    "- **Liquidity Trends**:\n",
    "  - **All Companies**: Current ratio above 1, indicating good liquidity.\n",
    "  - **Microsoft and Tesla**: Higher current ratios compared to Apple, suggesting better short-term financial health.\n",
    "\n",
    "### Asset Turnover\n",
    "\n",
    "- **Asset Turnover Trends**:\n",
    "  - **Apple**: Highest asset turnover, indicating efficient use of assets to generate revenue.\n",
    "  - **Microsoft**: Moderate asset turnover, showing slight improvement.\n",
    "  - **Tesla**: Lower asset turnover but improvement observed, suggesting better asset utilization.\n",
    "\n",
    "### Operating Cash Flow Trend\n",
    "\n",
    "- **Cash Flow Trends**:\n",
    "  - **Significant Fluctuations**: Especially for Microsoft and Tesla, indicating variability in cash flow performance.\n",
    "\n",
    "### Volatility\n",
    "\n",
    "- **Financial Metric Volatility**:\n",
    "  - **Microsoft**: Highest volatility in Total Revenue and Net Income, suggesting greater variability in financial performance.\n",
    "  - **Apple and Tesla**: Considerable volatility, particularly in Net Income.\n",
    "\n",
    "### Seasonality Analysis\n",
    "\n",
    "- **Revenue Seasonality**:\n",
    "  - **All Companies**: Higher revenue in Q1, indicating strong performance at the beginning of the year.\n",
    "\n",
    "### Annual Totals\n",
    "\n",
    "- **Total Growth**:\n",
    "  - **Overall Growth**: Observed in Total Revenue and Net Income across all years, with 2023 showing the highest figures.\n",
    "\n",
    "### Average by Company\n",
    "\n",
    "- **Company Comparisons**:\n",
    "  - **Apple**: Leads in Total Revenue and Net Income averages.\n",
    "  - **Microsoft**: Lower averages but shows different growth patterns.\n",
    "  - **Tesla**: Lower averages with varying growth trends and financial health.\n",
    "\n",
    "### Maximum and Minimum Values\n",
    "\n",
    "- **Extreme Values**:\n",
    "  - **Apple and Microsoft**: Higher maximum values in financial metrics compared to Tesla, indicating stronger financial performance.\n",
    "\n",
    "### Yearly Growth\n",
    "\n",
    "- **Growth Trends**:\n",
    "  - **Apple and Microsoft**: Moderate growth in various metrics, while Tesla exhibits significant fluctuations.\n",
    "\n",
    "### Correlation Matrix\n",
    "\n",
    "- **Metric Relationships**:\n",
    "  - **Total Revenue, Net Income, and Total Liabilities**: Strong positive correlations, indicating that as revenue and income increase, so do liabilities.\n",
    "  - **Cash Flow from Operating Activities**: Highly correlated with Total Revenue and Net Income.\n",
    "\n",
    "### Revenue Comparison\n",
    "\n",
    "- **Revenue Trends**:\n",
    "  - **Apple**: Shows the highest Total Revenue each year, followed by Microsoft and Tesla, highlighting Apple’s leading market position.\n",
    "\n",
    "## Conclusions\n",
    "\n",
    "- **Financial Health**: Apple demonstrates strong financial performance across most metrics, including ROE and Profit Margin.\n",
    "- **Growth Potential**: Microsoft and Tesla show promising growth trends, with Tesla particularly improving in profitability and asset utilization.\n",
    "- **Variability**: Higher volatility in financial metrics for Microsoft suggests a need for closer monitoring of financial stability.\n",
    "\n",
    "Overall, this analysis provides a comprehensive view of the financial performance and trends of Apple, Microsoft, and Tesla, aiding in strategic decision-making and investment evaluations.\n"
   ]
  },
  {
   "cell_type": "markdown",
   "metadata": {},
   "source": []
  }
 ],
 "metadata": {
  "kernelspec": {
   "display_name": "Python 3 (ipykernel)",
   "language": "python",
   "name": "python3"
  },
  "language_info": {
   "codemirror_mode": {
    "name": "ipython",
    "version": 3
   },
   "file_extension": ".py",
   "mimetype": "text/x-python",
   "name": "python",
   "nbconvert_exporter": "python",
   "pygments_lexer": "ipython3",
   "version": "3.10.12"
  }
 },
 "nbformat": 4,
 "nbformat_minor": 4
}
